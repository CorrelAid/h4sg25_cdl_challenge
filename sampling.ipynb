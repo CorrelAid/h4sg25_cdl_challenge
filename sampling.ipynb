{
 "cells": [
  {
   "cell_type": "code",
   "execution_count": 1,
   "metadata": {},
   "outputs": [],
   "source": [
    "import spacy\n",
    "import requests\n",
    "import zipfile\n",
    "import io\n",
    "import polars as pl"
   ]
  },
  {
   "cell_type": "code",
   "execution_count": 2,
   "metadata": {},
   "outputs": [],
   "source": [
    "data_url = \"https://foerderdatenbankdump.fra1.cdn.digitaloceanspaces.com/data/data.zip\""
   ]
  },
  {
   "cell_type": "code",
   "execution_count": 3,
   "metadata": {},
   "outputs": [
    {
     "name": "stdout",
     "output_type": "stream",
     "text": [
      "2488 Förderprogramme\n",
      "['id_hash', 'id_url', 'url', 'title', 'description', 'more_info', 'legal_basis', 'contact_info_institution', 'contact_info_street', 'contact_info_city', 'contact_info_fax', 'contact_info_phone', 'contact_info_email', 'contact_info_website', 'funding_type', 'funding_area', 'funding_location', 'eligible_applicants', 'funding_body', 'further_links', 'checksum', 'license_info', 'previous_update_dates', 'last_updated', 'deleted']\n",
      "[String, String, String, String, String, String, String, String, String, String, String, String, String, String, List(String), List(String), List(String), List(String), String, List(String), String, String, List(Datetime(time_unit='us', time_zone=None)), Datetime(time_unit='us', time_zone=None), Boolean]\n"
     ]
    }
   ],
   "source": [
    "response = requests.get(data_url)\n",
    "response.raise_for_status()\n",
    "\n",
    "with zipfile.ZipFile(io.BytesIO(response.content)) as z:\n",
    "    file_name = z.namelist()[0]\n",
    "    with z.open(file_name) as f:\n",
    "        df = pl.read_parquet(f)\n",
    "\n",
    "print(f\"{len(df)} Förderprogramme\")\n",
    "print(df.columns)\n",
    "print(df.dtypes)"
   ]
  },
  {
   "cell_type": "code",
   "execution_count": 5,
   "metadata": {},
   "outputs": [
    {
     "ename": "ValueError",
     "evalue": "expected 25 values when selecting columns by boolean mask, got 2488",
     "output_type": "error",
     "traceback": [
      "\u001b[31m---------------------------------------------------------------------------\u001b[39m",
      "\u001b[31mTypeError\u001b[39m                                 Traceback (most recent call last)",
      "\u001b[36mFile \u001b[39m\u001b[32m~/Code/CorrelAid/h4sg25_cdl_challenge/.venv/lib/python3.12/site-packages/polars/_utils/getitem.py:167\u001b[39m, in \u001b[36mget_df_item_by_key\u001b[39m\u001b[34m(df, key)\u001b[39m\n\u001b[32m    166\u001b[39m \u001b[38;5;28;01mtry\u001b[39;00m:\n\u001b[32m--> \u001b[39m\u001b[32m167\u001b[39m     \u001b[38;5;28;01mreturn\u001b[39;00m \u001b[43m_select_rows\u001b[49m\u001b[43m(\u001b[49m\u001b[43mdf\u001b[49m\u001b[43m,\u001b[49m\u001b[43m \u001b[49m\u001b[43mkey\u001b[49m\u001b[43m)\u001b[49m  \u001b[38;5;66;03m# type: ignore[arg-type]\u001b[39;00m\n\u001b[32m    168\u001b[39m \u001b[38;5;28;01mexcept\u001b[39;00m \u001b[38;5;167;01mTypeError\u001b[39;00m:\n",
      "\u001b[36mFile \u001b[39m\u001b[32m~/Code/CorrelAid/h4sg25_cdl_challenge/.venv/lib/python3.12/site-packages/polars/_utils/getitem.py:317\u001b[39m, in \u001b[36m_select_rows\u001b[39m\u001b[34m(df, key)\u001b[39m\n\u001b[32m    316\u001b[39m \u001b[38;5;28;01melif\u001b[39;00m \u001b[38;5;28misinstance\u001b[39m(key, pl.Series):\n\u001b[32m--> \u001b[39m\u001b[32m317\u001b[39m     indices = \u001b[43m_convert_series_to_indices\u001b[49m\u001b[43m(\u001b[49m\u001b[43mkey\u001b[49m\u001b[43m,\u001b[49m\u001b[43m \u001b[49m\u001b[43mdf\u001b[49m\u001b[43m.\u001b[49m\u001b[43mheight\u001b[49m\u001b[43m)\u001b[49m\n\u001b[32m    318\u001b[39m     \u001b[38;5;28;01mreturn\u001b[39;00m _select_rows_by_index(df, indices)\n",
      "\u001b[36mFile \u001b[39m\u001b[32m~/Code/CorrelAid/h4sg25_cdl_challenge/.venv/lib/python3.12/site-packages/polars/_utils/getitem.py:358\u001b[39m, in \u001b[36m_convert_series_to_indices\u001b[39m\u001b[34m(s, size)\u001b[39m\n\u001b[32m    357\u001b[39m \u001b[38;5;28;01mif\u001b[39;00m s.dtype == Boolean:\n\u001b[32m--> \u001b[39m\u001b[32m358\u001b[39m     \u001b[43m_raise_on_boolean_mask\u001b[49m\u001b[43m(\u001b[49m\u001b[43m)\u001b[49m\n\u001b[32m    359\u001b[39m \u001b[38;5;28;01melse\u001b[39;00m:\n",
      "\u001b[36mFile \u001b[39m\u001b[32m~/Code/CorrelAid/h4sg25_cdl_challenge/.venv/lib/python3.12/site-packages/polars/_utils/getitem.py:455\u001b[39m, in \u001b[36m_raise_on_boolean_mask\u001b[39m\u001b[34m()\u001b[39m\n\u001b[32m    451\u001b[39m msg = (\n\u001b[32m    452\u001b[39m     \u001b[33m\"\u001b[39m\u001b[33mselecting rows by passing a boolean mask to `__getitem__` is not supported\u001b[39m\u001b[33m\"\u001b[39m\n\u001b[32m    453\u001b[39m     \u001b[33m\"\u001b[39m\u001b[38;5;130;01m\\n\u001b[39;00m\u001b[38;5;130;01m\\n\u001b[39;00m\u001b[33mHint: Use the `filter` method instead.\u001b[39m\u001b[33m\"\u001b[39m\n\u001b[32m    454\u001b[39m )\n\u001b[32m--> \u001b[39m\u001b[32m455\u001b[39m \u001b[38;5;28;01mraise\u001b[39;00m \u001b[38;5;167;01mTypeError\u001b[39;00m(msg)\n",
      "\u001b[31mTypeError\u001b[39m: selecting rows by passing a boolean mask to `__getitem__` is not supported\n\nHint: Use the `filter` method instead.",
      "\nDuring handling of the above exception, another exception occurred:\n",
      "\u001b[31mValueError\u001b[39m                                Traceback (most recent call last)",
      "\u001b[36mCell\u001b[39m\u001b[36m \u001b[39m\u001b[32mIn[5]\u001b[39m\u001b[32m, line 1\u001b[39m\n\u001b[32m----> \u001b[39m\u001b[32m1\u001b[39m filtered_df = \u001b[43mdf\u001b[49m\u001b[43m[\u001b[49m\u001b[43mdf\u001b[49m\u001b[43m[\u001b[49m\u001b[33;43m'\u001b[39;49m\u001b[33;43mdeleted\u001b[39;49m\u001b[33;43m'\u001b[39;49m\u001b[43m]\u001b[49m\u001b[43m \u001b[49m\u001b[43m==\u001b[49m\u001b[43m \u001b[49m\u001b[38;5;28;43;01mTrue\u001b[39;49;00m\u001b[43m]\u001b[49m\n",
      "\u001b[36mFile \u001b[39m\u001b[32m~/Code/CorrelAid/h4sg25_cdl_challenge/.venv/lib/python3.12/site-packages/polars/dataframe/frame.py:1363\u001b[39m, in \u001b[36mDataFrame.__getitem__\u001b[39m\u001b[34m(self, key)\u001b[39m\n\u001b[32m   1226\u001b[39m \u001b[38;5;28;01mdef\u001b[39;00m\u001b[38;5;250m \u001b[39m\u001b[34m__getitem__\u001b[39m(\n\u001b[32m   1227\u001b[39m     \u001b[38;5;28mself\u001b[39m,\n\u001b[32m   1228\u001b[39m     key: (\n\u001b[32m   (...)\u001b[39m\u001b[32m   1237\u001b[39m     ),\n\u001b[32m   1238\u001b[39m ) -> DataFrame | Series | Any:\n\u001b[32m   1239\u001b[39m \u001b[38;5;250m    \u001b[39m\u001b[33;03m\"\"\"\u001b[39;00m\n\u001b[32m   1240\u001b[39m \u001b[33;03m    Get part of the DataFrame as a new DataFrame, Series, or scalar.\u001b[39;00m\n\u001b[32m   1241\u001b[39m \n\u001b[32m   (...)\u001b[39m\u001b[32m   1361\u001b[39m \u001b[33;03m    └─────┴─────┴─────┘\u001b[39;00m\n\u001b[32m   1362\u001b[39m \u001b[33;03m    \"\"\"\u001b[39;00m\n\u001b[32m-> \u001b[39m\u001b[32m1363\u001b[39m     \u001b[38;5;28;01mreturn\u001b[39;00m \u001b[43mget_df_item_by_key\u001b[49m\u001b[43m(\u001b[49m\u001b[38;5;28;43mself\u001b[39;49m\u001b[43m,\u001b[49m\u001b[43m \u001b[49m\u001b[43mkey\u001b[49m\u001b[43m)\u001b[49m\n",
      "\u001b[36mFile \u001b[39m\u001b[32m~/Code/CorrelAid/h4sg25_cdl_challenge/.venv/lib/python3.12/site-packages/polars/_utils/getitem.py:169\u001b[39m, in \u001b[36mget_df_item_by_key\u001b[39m\u001b[34m(df, key)\u001b[39m\n\u001b[32m    167\u001b[39m     \u001b[38;5;28;01mreturn\u001b[39;00m _select_rows(df, key)  \u001b[38;5;66;03m# type: ignore[arg-type]\u001b[39;00m\n\u001b[32m    168\u001b[39m \u001b[38;5;28;01mexcept\u001b[39;00m \u001b[38;5;167;01mTypeError\u001b[39;00m:\n\u001b[32m--> \u001b[39m\u001b[32m169\u001b[39m     \u001b[38;5;28;01mreturn\u001b[39;00m \u001b[43m_select_columns\u001b[49m\u001b[43m(\u001b[49m\u001b[43mdf\u001b[49m\u001b[43m,\u001b[49m\u001b[43m \u001b[49m\u001b[43mkey\u001b[49m\u001b[43m)\u001b[49m\n",
      "\u001b[36mFile \u001b[39m\u001b[32m~/Code/CorrelAid/h4sg25_cdl_challenge/.venv/lib/python3.12/site-packages/polars/_utils/getitem.py:231\u001b[39m, in \u001b[36m_select_columns\u001b[39m\u001b[34m(df, key)\u001b[39m\n\u001b[32m    229\u001b[39m     \u001b[38;5;28;01mreturn\u001b[39;00m _select_columns_by_index(df, key)\n\u001b[32m    230\u001b[39m \u001b[38;5;28;01melif\u001b[39;00m dtype == Boolean:\n\u001b[32m--> \u001b[39m\u001b[32m231\u001b[39m     \u001b[38;5;28;01mreturn\u001b[39;00m \u001b[43m_select_columns_by_mask\u001b[49m\u001b[43m(\u001b[49m\u001b[43mdf\u001b[49m\u001b[43m,\u001b[49m\u001b[43m \u001b[49m\u001b[43mkey\u001b[49m\u001b[43m)\u001b[49m\n\u001b[32m    232\u001b[39m \u001b[38;5;28;01melse\u001b[39;00m:\n\u001b[32m    233\u001b[39m     msg = \u001b[33mf\u001b[39m\u001b[33m\"\u001b[39m\u001b[33mcannot select columns using Series of type \u001b[39m\u001b[38;5;132;01m{\u001b[39;00mdtype\u001b[38;5;132;01m}\u001b[39;00m\u001b[33m\"\u001b[39m\n",
      "\u001b[36mFile \u001b[39m\u001b[32m~/Code/CorrelAid/h4sg25_cdl_challenge/.venv/lib/python3.12/site-packages/polars/_utils/getitem.py:275\u001b[39m, in \u001b[36m_select_columns_by_mask\u001b[39m\u001b[34m(df, key)\u001b[39m\n\u001b[32m    273\u001b[39m \u001b[38;5;28;01mif\u001b[39;00m \u001b[38;5;28mlen\u001b[39m(key) != df.width:\n\u001b[32m    274\u001b[39m     msg = \u001b[33mf\u001b[39m\u001b[33m\"\u001b[39m\u001b[33mexpected \u001b[39m\u001b[38;5;132;01m{\u001b[39;00mdf.width\u001b[38;5;132;01m}\u001b[39;00m\u001b[33m values when selecting columns by boolean mask, got \u001b[39m\u001b[38;5;132;01m{\u001b[39;00m\u001b[38;5;28mlen\u001b[39m(key)\u001b[38;5;132;01m}\u001b[39;00m\u001b[33m\"\u001b[39m\n\u001b[32m--> \u001b[39m\u001b[32m275\u001b[39m     \u001b[38;5;28;01mraise\u001b[39;00m \u001b[38;5;167;01mValueError\u001b[39;00m(msg)\n\u001b[32m    277\u001b[39m indices = (i \u001b[38;5;28;01mfor\u001b[39;00m i, val \u001b[38;5;129;01min\u001b[39;00m \u001b[38;5;28menumerate\u001b[39m(key) \u001b[38;5;28;01mif\u001b[39;00m val)\n\u001b[32m    278\u001b[39m \u001b[38;5;28;01mreturn\u001b[39;00m _select_columns_by_index(df, indices)\n",
      "\u001b[31mValueError\u001b[39m: expected 25 values when selecting columns by boolean mask, got 2488"
     ]
    }
   ],
   "source": [
    "filtered_df = df[df['deleted'] == True]\n"
   ]
  }
 ],
 "metadata": {
  "kernelspec": {
   "display_name": ".venv",
   "language": "python",
   "name": "python3"
  },
  "language_info": {
   "codemirror_mode": {
    "name": "ipython",
    "version": 3
   },
   "file_extension": ".py",
   "mimetype": "text/x-python",
   "name": "python",
   "nbconvert_exporter": "python",
   "pygments_lexer": "ipython3",
   "version": "3.12.7"
  }
 },
 "nbformat": 4,
 "nbformat_minor": 2
}
