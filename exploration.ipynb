{
 "cells": [
  {
   "cell_type": "code",
   "execution_count": 8,
   "metadata": {},
   "outputs": [],
   "source": [
    "import requests\n",
    "import zipfile\n",
    "import io\n",
    "import polars as pl"
   ]
  },
  {
   "cell_type": "code",
   "execution_count": 9,
   "metadata": {},
   "outputs": [],
   "source": [
    "data_url = \"https://foerderdatenbankdump.fra1.cdn.digitaloceanspaces.com/data/data.zip\""
   ]
  },
  {
   "cell_type": "code",
   "execution_count": 10,
   "metadata": {},
   "outputs": [
    {
     "name": "stdout",
     "output_type": "stream",
     "text": [
      "2488 Förderprogramme\n",
      "['id_hash', 'id_url', 'url', 'title', 'description', 'more_info', 'legal_basis', 'contact_info_institution', 'contact_info_street', 'contact_info_city', 'contact_info_fax', 'contact_info_phone', 'contact_info_email', 'contact_info_website', 'funding_type', 'funding_area', 'funding_location', 'eligible_applicants', 'funding_body', 'further_links', 'checksum', 'license_info', 'previous_update_dates', 'last_updated', 'deleted']\n",
      "[String, String, String, String, String, String, String, String, String, String, String, String, String, String, List(String), List(String), List(String), List(String), String, List(String), String, String, List(Datetime(time_unit='us', time_zone=None)), Datetime(time_unit='us', time_zone=None), Boolean]\n"
     ]
    }
   ],
   "source": [
    "response = requests.get(data_url)\n",
    "response.raise_for_status()\n",
    "\n",
    "with zipfile.ZipFile(io.BytesIO(response.content)) as z:\n",
    "    file_name = z.namelist()[0]\n",
    "    with z.open(file_name) as f:\n",
    "        df = pl.read_parquet(f)\n",
    "\n",
    "print(f\"{len(df)} Förderprogramme\")\n",
    "print(df.columns)\n",
    "print(df.dtypes)"
   ]
  },
  {
   "cell_type": "code",
   "execution_count": 15,
   "metadata": {},
   "outputs": [
    {
     "ename": "FileNotFoundError",
     "evalue": "No such file or directory (os error 2): data/data_04042025.csv",
     "output_type": "error",
     "traceback": [
      "\u001b[31m---------------------------------------------------------------------------\u001b[39m",
      "\u001b[31mFileNotFoundError\u001b[39m                         Traceback (most recent call last)",
      "\u001b[32m/tmp/ipykernel_7714/2396788311.py\u001b[39m in \u001b[36m?\u001b[39m\u001b[34m()\u001b[39m\n\u001b[32m----> \u001b[39m\u001b[32m1\u001b[39m df.write_csv(\u001b[33m\"data/data_04042025.csv\"\u001b[39m)\n",
      "\u001b[32m~/Code/CorrelAid/h4sg25_cdl_challenge/.venv/lib/python3.12/site-packages/polars/dataframe/frame.py\u001b[39m in \u001b[36m?\u001b[39m\u001b[34m(***failed resolving arguments***)\u001b[39m\n\u001b[32m   2968\u001b[39m         \u001b[38;5;28;01melse\u001b[39;00m:\n\u001b[32m   2969\u001b[39m             \u001b[38;5;66;03m# Handle empty dict input\u001b[39;00m\n\u001b[32m   2970\u001b[39m             storage_options = \u001b[38;5;28;01mNone\u001b[39;00m\n\u001b[32m   2971\u001b[39m \n\u001b[32m-> \u001b[39m\u001b[32m2972\u001b[39m         self._df.write_csv(\n\u001b[32m   2973\u001b[39m             file,\n\u001b[32m   2974\u001b[39m             include_bom,\n\u001b[32m   2975\u001b[39m             include_header,\n",
      "\u001b[31mFileNotFoundError\u001b[39m: No such file or directory (os error 2): data/data_04042025.csv"
     ]
    }
   ],
   "source": [
    "df.write_csv(\"data/data_04042025.csv\")"
   ]
  },
  {
   "cell_type": "code",
   "execution_count": null,
   "metadata": {},
   "outputs": [],
   "source": []
  }
 ],
 "metadata": {
  "language_info": {
   "name": "python"
  }
 },
 "nbformat": 4,
 "nbformat_minor": 2
}
