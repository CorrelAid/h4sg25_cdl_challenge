{
 "cells": [
  {
   "cell_type": "code",
   "execution_count": 3,
   "metadata": {},
   "outputs": [],
   "source": [
    "import polars as pl"
   ]
  },
  {
   "cell_type": "code",
   "execution_count": 10,
   "metadata": {},
   "outputs": [],
   "source": [
    "df = pl.read_csv(\"data/ZER-Förderung des demokratischen Staatswesens-20250404.csv\", separator=\";\", null_values=[\"-\"])"
   ]
  },
  {
   "cell_type": "code",
   "execution_count": 12,
   "metadata": {},
   "outputs": [
    {
     "data": {
      "text/html": [
       "<div><style>\n",
       ".dataframe > thead > tr,\n",
       ".dataframe > tbody > tr {\n",
       "  text-align: right;\n",
       "  white-space: pre-wrap;\n",
       "}\n",
       "</style>\n",
       "<small>shape: (1_256,)</small><table border=\"1\" class=\"dataframe\"><thead><tr><th>Organisation</th></tr><tr><td>str</td></tr></thead><tbody><tr><td>&quot;Kommunalpolitische Vereinigung…</td></tr><tr><td>&quot;BiDeF - Bildungs- und Demokrat…</td></tr><tr><td>&quot;Deutsche Gesellschaft für Info…</td></tr><tr><td>&quot;Akademische Erasmus Stiftung e…</td></tr><tr><td>&quot;Treuhandstiftung Sensthof&quot;</td></tr><tr><td>&hellip;</td></tr><tr><td>&quot;Lions-Club Worbis- Heiligensta…</td></tr><tr><td>&quot;Förderverein Alte Kanzlei in B…</td></tr><tr><td>&quot;Bund der Steuerzahler Thüringe…</td></tr><tr><td>&quot;Bürger für Thüringen e.V.&quot;</td></tr><tr><td>&quot;Evangelisches Allianzhaus Bad …</td></tr></tbody></table></div>"
      ],
      "text/plain": [
       "shape: (1_256,)\n",
       "Series: 'Organisation' [str]\n",
       "[\n",
       "\t\"Kommunalpolitische Vereinigung…\n",
       "\t\"BiDeF - Bildungs- und Demokrat…\n",
       "\t\"Deutsche Gesellschaft für Info…\n",
       "\t\"Akademische Erasmus Stiftung e…\n",
       "\t\"Treuhandstiftung Sensthof\"\n",
       "\t…\n",
       "\t\"Lions-Club Worbis- Heiligensta…\n",
       "\t\"Förderverein Alte Kanzlei in B…\n",
       "\t\"Bund der Steuerzahler Thüringe…\n",
       "\t\"Bürger für Thüringen e.V.\"\n",
       "\t\"Evangelisches Allianzhaus Bad …\n",
       "]"
      ]
     },
     "execution_count": 12,
     "metadata": {},
     "output_type": "execute_result"
    }
   ],
   "source": [
    "df[\"Organisation\"]"
   ]
  }
 ],
 "metadata": {
  "kernelspec": {
   "display_name": ".venv",
   "language": "python",
   "name": "python3"
  },
  "language_info": {
   "codemirror_mode": {
    "name": "ipython",
    "version": 3
   },
   "file_extension": ".py",
   "mimetype": "text/x-python",
   "name": "python",
   "nbconvert_exporter": "python",
   "pygments_lexer": "ipython3",
   "version": "3.12.7"
  }
 },
 "nbformat": 4,
 "nbformat_minor": 2
}
